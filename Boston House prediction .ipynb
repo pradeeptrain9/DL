{
 "cells": [
  {
   "cell_type": "code",
   "execution_count": 1,
   "metadata": {},
   "outputs": [
    {
     "ename": "ModuleNotFoundError",
     "evalue": "No module named 'pandas.compat'",
     "output_type": "error",
     "traceback": [
      "\u001b[1;31m---------------------------------------------------------------------------\u001b[0m",
      "\u001b[1;31mModuleNotFoundError\u001b[0m                       Traceback (most recent call last)",
      "\u001b[1;32m<ipython-input-1-6a1a0ec524d1>\u001b[0m in \u001b[0;36m<module>\u001b[1;34m\u001b[0m\n\u001b[0;32m      1\u001b[0m \u001b[1;32mimport\u001b[0m \u001b[0mnumpy\u001b[0m \u001b[1;32mas\u001b[0m \u001b[0mnp\u001b[0m\u001b[1;33m\u001b[0m\u001b[1;33m\u001b[0m\u001b[0m\n\u001b[1;32m----> 2\u001b[1;33m \u001b[1;32mimport\u001b[0m \u001b[0mpandas\u001b[0m \u001b[1;32mas\u001b[0m \u001b[0mpd\u001b[0m\u001b[1;33m\u001b[0m\u001b[1;33m\u001b[0m\u001b[0m\n\u001b[0m\u001b[0;32m      3\u001b[0m \u001b[1;32mfrom\u001b[0m \u001b[0msklearn\u001b[0m\u001b[1;33m.\u001b[0m\u001b[0mdatasets\u001b[0m \u001b[1;32mimport\u001b[0m \u001b[0mload_boston\u001b[0m\u001b[1;33m\u001b[0m\u001b[1;33m\u001b[0m\u001b[0m\n\u001b[0;32m      4\u001b[0m \u001b[1;32mfrom\u001b[0m \u001b[0msklearn\u001b[0m\u001b[1;33m.\u001b[0m\u001b[0mmodel_selection\u001b[0m \u001b[1;32mimport\u001b[0m \u001b[0mtrain_test_split\u001b[0m\u001b[1;33m\u001b[0m\u001b[1;33m\u001b[0m\u001b[0m\n\u001b[0;32m      5\u001b[0m \u001b[1;32mfrom\u001b[0m \u001b[0msklearn\u001b[0m\u001b[1;33m.\u001b[0m\u001b[0mpreprocessing\u001b[0m \u001b[1;32mimport\u001b[0m \u001b[0mStandardScaler\u001b[0m\u001b[1;33m,\u001b[0m \u001b[0mPolynomailFeatures\u001b[0m\u001b[1;33m\u001b[0m\u001b[1;33m\u001b[0m\u001b[0m\n",
      "\u001b[1;32m~\\AppData\\Roaming\\Python\\Python38\\site-packages\\pandas\\__init__.py\u001b[0m in \u001b[0;36m<module>\u001b[1;34m\u001b[0m\n\u001b[0;32m     20\u001b[0m \u001b[1;33m\u001b[0m\u001b[0m\n\u001b[0;32m     21\u001b[0m \u001b[1;31m# numpy compat\u001b[0m\u001b[1;33m\u001b[0m\u001b[1;33m\u001b[0m\u001b[1;33m\u001b[0m\u001b[0m\n\u001b[1;32m---> 22\u001b[1;33m \u001b[1;32mfrom\u001b[0m \u001b[0mpandas\u001b[0m\u001b[1;33m.\u001b[0m\u001b[0mcompat\u001b[0m \u001b[1;32mimport\u001b[0m \u001b[0mis_numpy_dev\u001b[0m \u001b[1;32mas\u001b[0m \u001b[0m_is_numpy_dev\u001b[0m  \u001b[1;31m# pyright: ignore # noqa:F401\u001b[0m\u001b[1;33m\u001b[0m\u001b[1;33m\u001b[0m\u001b[0m\n\u001b[0m\u001b[0;32m     23\u001b[0m \u001b[1;33m\u001b[0m\u001b[0m\n\u001b[0;32m     24\u001b[0m \u001b[1;32mtry\u001b[0m\u001b[1;33m:\u001b[0m\u001b[1;33m\u001b[0m\u001b[1;33m\u001b[0m\u001b[0m\n",
      "\u001b[1;31mModuleNotFoundError\u001b[0m: No module named 'pandas.compat'"
     ]
    }
   ],
   "source": [
    "import numpy as np\n",
    "import pandas as pd\n",
    "from sklearn.datasets import load_boston\n",
    "from sklearn.model_selection import train_test_split\n",
    "from sklearn.preprocessing import StandardScaler, PolynomailFeatures\n",
    "import tensorflow as tf\n",
    "from tensorflow.keras.models import Sequential\n",
    "from tensorflow.keras.layers import Dense"
   ]
  },
  {
   "cell_type": "code",
   "execution_count": 3,
   "metadata": {},
   "outputs": [],
   "source": [
    "boston = load_boston()\n"
   ]
  },
  {
   "cell_type": "code",
   "execution_count": 4,
   "metadata": {},
   "outputs": [],
   "source": [
    "# Convert the data to a Pandas dataframe\n",
    "boston_df = pd.DataFrame(boston.data, columns=boston.feature_names)\n",
    "\n",
    "# Add the target variable to the dataframe\n",
    "boston_df['MEDV'] = boston.target\n",
    "\n",
    "# Split the data into training and testing sets\n",
    "X_train, X_test, y_train, y_test = train_test_split(boston_df[boston.feature_names], boston_df['MEDV'], test_size=0.2, random_state=0)\n",
    "\n",
    "# Scale the data\n",
    "scaler = StandardScaler()\n",
    "X_train = scaler.fit_transform(X_train)\n",
    "X_test = scaler.transform(X_test)"
   ]
  },
  {
   "cell_type": "code",
   "execution_count": 5,
   "metadata": {},
   "outputs": [],
   "source": [
    "# Define the model\n",
    "model = Sequential()\n",
    "model.add(Dense(64, input_shape=(X_train.shape[1],), activation='relu'))\n",
    "model.add(Dense(1, activation='linear'))\n",
    "\n",
    "# Compile the model\n",
    "model.compile(loss='mean_squared_error', optimizer='adam')\n"
   ]
  },
  {
   "cell_type": "code",
   "execution_count": 6,
   "metadata": {},
   "outputs": [
    {
     "name": "stdout",
     "output_type": "stream",
     "text": [
      "Epoch 1/100\n",
      "13/13 [==============================] - 15s 745ms/step - loss: 618.7558 - val_loss: 585.6053\n",
      "Epoch 2/100\n",
      "13/13 [==============================] - 1s 45ms/step - loss: 597.2887 - val_loss: 565.0607\n",
      "Epoch 3/100\n",
      "13/13 [==============================] - 1s 46ms/step - loss: 578.0845 - val_loss: 545.0126\n",
      "Epoch 4/100\n",
      "13/13 [==============================] - 1s 43ms/step - loss: 549.0928 - val_loss: 525.0309\n",
      "Epoch 5/100\n",
      "13/13 [==============================] - 1s 41ms/step - loss: 550.4614 - val_loss: 504.0951\n",
      "Epoch 6/100\n",
      "13/13 [==============================] - 1s 56ms/step - loss: 502.5136 - val_loss: 482.3594\n",
      "Epoch 7/100\n",
      "13/13 [==============================] - 1s 50ms/step - loss: 504.5562 - val_loss: 459.5031\n",
      "Epoch 8/100\n",
      "13/13 [==============================] - 1s 63ms/step - loss: 481.8971 - val_loss: 435.6527\n",
      "Epoch 9/100\n",
      "13/13 [==============================] - 1s 71ms/step - loss: 462.1707 - val_loss: 410.9569\n",
      "Epoch 10/100\n",
      "13/13 [==============================] - 1s 49ms/step - loss: 396.5731 - val_loss: 386.0501\n",
      "Epoch 11/100\n",
      "13/13 [==============================] - 1s 53ms/step - loss: 415.3329 - val_loss: 360.1017- ETA: 0s - loss: 425.33\n",
      "Epoch 12/100\n",
      "13/13 [==============================] - 1s 59ms/step - loss: 373.0737 - val_loss: 334.2959\n",
      "Epoch 13/100\n",
      "13/13 [==============================] - 1s 42ms/step - loss: 312.3066 - val_loss: 308.6916\n",
      "Epoch 14/100\n",
      "13/13 [==============================] - 1s 53ms/step - loss: 322.9953 - val_loss: 282.8246\n",
      "Epoch 15/100\n",
      "13/13 [==============================] - 1s 66ms/step - loss: 293.6497 - val_loss: 258.8306\n",
      "Epoch 16/100\n",
      "13/13 [==============================] - 1s 66ms/step - loss: 249.4977 - val_loss: 235.7260\n",
      "Epoch 17/100\n",
      "13/13 [==============================] - 1s 96ms/step - loss: 227.7585 - val_loss: 214.2773\n",
      "Epoch 18/100\n",
      "13/13 [==============================] - 1s 45ms/step - loss: 200.3534 - val_loss: 193.9963\n",
      "Epoch 19/100\n",
      "13/13 [==============================] - 0s 40ms/step - loss: 177.7214 - val_loss: 175.6813\n",
      "Epoch 20/100\n",
      "13/13 [==============================] - 1s 59ms/step - loss: 165.8784 - val_loss: 159.1136\n",
      "Epoch 21/100\n",
      "13/13 [==============================] - 1s 43ms/step - loss: 151.1437 - val_loss: 144.6532\n",
      "Epoch 22/100\n",
      "13/13 [==============================] - 1s 41ms/step - loss: 131.1539 - val_loss: 131.6801\n",
      "Epoch 23/100\n",
      "13/13 [==============================] - 1s 68ms/step - loss: 107.3995 - val_loss: 120.2232\n",
      "Epoch 24/100\n",
      "13/13 [==============================] - 1s 61ms/step - loss: 104.7143 - val_loss: 110.1946\n",
      "Epoch 25/100\n",
      "13/13 [==============================] - 0s 41ms/step - loss: 84.7989 - val_loss: 101.7787\n",
      "Epoch 26/100\n",
      "13/13 [==============================] - 1s 48ms/step - loss: 82.1832 - val_loss: 94.0580\n",
      "Epoch 27/100\n",
      "13/13 [==============================] - 1s 47ms/step - loss: 70.4146 - val_loss: 87.4455\n",
      "Epoch 28/100\n",
      "13/13 [==============================] - 1s 67ms/step - loss: 60.8170 - val_loss: 81.7926\n",
      "Epoch 29/100\n",
      "13/13 [==============================] - 1s 64ms/step - loss: 52.3693 - val_loss: 76.8512\n",
      "Epoch 30/100\n",
      "13/13 [==============================] - 1s 83ms/step - loss: 53.2120 - val_loss: 72.2812\n",
      "Epoch 31/100\n",
      "13/13 [==============================] - 1s 43ms/step - loss: 46.2639 - val_loss: 68.3109\n",
      "Epoch 32/100\n",
      "13/13 [==============================] - 1s 46ms/step - loss: 40.9270 - val_loss: 64.8903\n",
      "Epoch 33/100\n",
      "13/13 [==============================] - 0s 40ms/step - loss: 44.8749 - val_loss: 61.7890\n",
      "Epoch 34/100\n",
      "13/13 [==============================] - 0s 39ms/step - loss: 37.4090 - val_loss: 59.2065\n",
      "Epoch 35/100\n",
      "13/13 [==============================] - 0s 36ms/step - loss: 36.9980 - val_loss: 57.0183\n",
      "Epoch 36/100\n",
      "13/13 [==============================] - 1s 42ms/step - loss: 30.3616 - val_loss: 55.3228\n",
      "Epoch 37/100\n",
      "13/13 [==============================] - 0s 40ms/step - loss: 25.6920 - val_loss: 53.8235\n",
      "Epoch 38/100\n",
      "13/13 [==============================] - 1s 42ms/step - loss: 29.8738 - val_loss: 52.3474\n",
      "Epoch 39/100\n",
      "13/13 [==============================] - 0s 36ms/step - loss: 31.9869 - val_loss: 51.1294\n",
      "Epoch 40/100\n",
      "13/13 [==============================] - 0s 40ms/step - loss: 28.6180 - val_loss: 50.1904\n",
      "Epoch 41/100\n",
      "13/13 [==============================] - 1s 42ms/step - loss: 23.7673 - val_loss: 49.2872\n",
      "Epoch 42/100\n",
      "13/13 [==============================] - 1s 41ms/step - loss: 30.0215 - val_loss: 48.3497\n",
      "Epoch 43/100\n",
      "13/13 [==============================] - 0s 36ms/step - loss: 28.4482 - val_loss: 47.8281\n",
      "Epoch 44/100\n",
      "13/13 [==============================] - 1s 43ms/step - loss: 22.9423 - val_loss: 47.1317\n",
      "Epoch 45/100\n",
      "13/13 [==============================] - 0s 39ms/step - loss: 26.8908 - val_loss: 46.4965\n",
      "Epoch 46/100\n",
      "13/13 [==============================] - 0s 37ms/step - loss: 29.0100 - val_loss: 45.8061\n",
      "Epoch 47/100\n",
      "13/13 [==============================] - 1s 47ms/step - loss: 23.3201 - val_loss: 45.2455\n",
      "Epoch 48/100\n",
      "13/13 [==============================] - 1s 42ms/step - loss: 24.0168 - val_loss: 44.7012\n",
      "Epoch 49/100\n",
      "13/13 [==============================] - 0s 36ms/step - loss: 21.2891 - val_loss: 44.1528\n",
      "Epoch 50/100\n",
      "13/13 [==============================] - 0s 35ms/step - loss: 23.1126 - val_loss: 43.6425\n",
      "Epoch 51/100\n",
      "13/13 [==============================] - 0s 35ms/step - loss: 22.0052 - val_loss: 43.0113\n",
      "Epoch 52/100\n",
      "13/13 [==============================] - 0s 39ms/step - loss: 19.2036 - val_loss: 42.5658\n",
      "Epoch 53/100\n",
      "13/13 [==============================] - 1s 41ms/step - loss: 20.1162 - val_loss: 42.1657\n",
      "Epoch 54/100\n",
      "13/13 [==============================] - 0s 37ms/step - loss: 19.7865 - val_loss: 41.6498\n",
      "Epoch 55/100\n",
      "13/13 [==============================] - 0s 34ms/step - loss: 23.4908 - val_loss: 41.1557\n",
      "Epoch 56/100\n",
      "13/13 [==============================] - 0s 37ms/step - loss: 20.2238 - val_loss: 40.7993\n",
      "Epoch 57/100\n",
      "13/13 [==============================] - 1s 46ms/step - loss: 22.6429 - val_loss: 40.3174\n",
      "Epoch 58/100\n",
      "13/13 [==============================] - 0s 38ms/step - loss: 19.3284 - val_loss: 39.9591\n",
      "Epoch 59/100\n",
      "13/13 [==============================] - 0s 35ms/step - loss: 18.6928 - val_loss: 39.3160\n",
      "Epoch 60/100\n",
      "13/13 [==============================] - 0s 35ms/step - loss: 18.7763 - val_loss: 39.0542\n",
      "Epoch 61/100\n",
      "13/13 [==============================] - 0s 36ms/step - loss: 18.6903 - val_loss: 38.6309\n",
      "Epoch 62/100\n",
      "13/13 [==============================] - 0s 37ms/step - loss: 22.7231 - val_loss: 38.1999\n",
      "Epoch 63/100\n",
      "13/13 [==============================] - 0s 35ms/step - loss: 20.8944 - val_loss: 37.9248\n",
      "Epoch 64/100\n",
      "13/13 [==============================] - 0s 35ms/step - loss: 19.3911 - val_loss: 37.7170\n",
      "Epoch 65/100\n",
      "13/13 [==============================] - 0s 37ms/step - loss: 17.0667 - val_loss: 37.3391\n",
      "Epoch 66/100\n",
      "13/13 [==============================] - 0s 35ms/step - loss: 18.7449 - val_loss: 36.9599\n",
      "Epoch 67/100\n",
      "13/13 [==============================] - 0s 37ms/step - loss: 17.7922 - val_loss: 36.6167\n",
      "Epoch 68/100\n",
      "13/13 [==============================] - 0s 34ms/step - loss: 19.1168 - val_loss: 35.9994\n",
      "Epoch 69/100\n",
      "13/13 [==============================] - 0s 37ms/step - loss: 17.0657 - val_loss: 35.8107\n",
      "Epoch 70/100\n",
      "13/13 [==============================] - 0s 35ms/step - loss: 19.2272 - val_loss: 35.5058\n",
      "Epoch 71/100\n",
      "13/13 [==============================] - 0s 38ms/step - loss: 17.2318 - val_loss: 35.2231\n",
      "Epoch 72/100\n",
      "13/13 [==============================] - 0s 36ms/step - loss: 18.7996 - val_loss: 34.8184\n",
      "Epoch 73/100\n",
      "13/13 [==============================] - 0s 35ms/step - loss: 20.6789 - val_loss: 34.6323\n",
      "Epoch 74/100\n",
      "13/13 [==============================] - 0s 36ms/step - loss: 17.7229 - val_loss: 34.3839\n",
      "Epoch 75/100\n",
      "13/13 [==============================] - 0s 36ms/step - loss: 17.1680 - val_loss: 34.0047\n",
      "Epoch 76/100\n",
      "13/13 [==============================] - 0s 36ms/step - loss: 15.9405 - val_loss: 33.7394\n",
      "Epoch 77/100\n",
      "13/13 [==============================] - 0s 36ms/step - loss: 18.2763 - val_loss: 33.3842\n",
      "Epoch 78/100\n",
      "13/13 [==============================] - 0s 39ms/step - loss: 13.6017 - val_loss: 33.0613\n",
      "Epoch 79/100\n",
      "13/13 [==============================] - 0s 36ms/step - loss: 14.9787 - val_loss: 32.7865\n"
     ]
    },
    {
     "name": "stdout",
     "output_type": "stream",
     "text": [
      "Epoch 80/100\n",
      "13/13 [==============================] - 1s 45ms/step - loss: 13.8983 - val_loss: 32.5766\n",
      "Epoch 81/100\n",
      "13/13 [==============================] - 1s 45ms/step - loss: 12.8859 - val_loss: 32.2713\n",
      "Epoch 82/100\n",
      "13/13 [==============================] - 1s 49ms/step - loss: 14.6249 - val_loss: 32.1092\n",
      "Epoch 83/100\n",
      "13/13 [==============================] - 1s 70ms/step - loss: 15.1706 - val_loss: 31.9910\n",
      "Epoch 84/100\n",
      "13/13 [==============================] - 1s 53ms/step - loss: 12.8693 - val_loss: 31.6229\n",
      "Epoch 85/100\n",
      "13/13 [==============================] - 1s 55ms/step - loss: 13.4946 - val_loss: 31.2372\n",
      "Epoch 86/100\n",
      "13/13 [==============================] - 1s 60ms/step - loss: 16.8705 - val_loss: 30.6841\n",
      "Epoch 87/100\n",
      "13/13 [==============================] - 1s 43ms/step - loss: 14.7768 - val_loss: 30.5596\n",
      "Epoch 88/100\n",
      "13/13 [==============================] - 1s 53ms/step - loss: 14.0596 - val_loss: 30.4610\n",
      "Epoch 89/100\n",
      "13/13 [==============================] - 1s 53ms/step - loss: 12.9043 - val_loss: 30.1959\n",
      "Epoch 90/100\n",
      "13/13 [==============================] - 1s 46ms/step - loss: 14.6847 - val_loss: 29.9995\n",
      "Epoch 91/100\n",
      "13/13 [==============================] - 0s 33ms/step - loss: 14.4559 - val_loss: 29.6612\n",
      "Epoch 92/100\n",
      "13/13 [==============================] - 0s 32ms/step - loss: 16.8684 - val_loss: 29.4451\n",
      "Epoch 93/100\n",
      "13/13 [==============================] - 1s 42ms/step - loss: 13.1014 - val_loss: 29.3189\n",
      "Epoch 94/100\n",
      "13/13 [==============================] - 0s 32ms/step - loss: 13.5227 - val_loss: 28.9522\n",
      "Epoch 95/100\n",
      "13/13 [==============================] - 0s 38ms/step - loss: 12.1006 - val_loss: 29.0822\n",
      "Epoch 96/100\n",
      "13/13 [==============================] - 0s 33ms/step - loss: 11.5439 - val_loss: 28.6614\n",
      "Epoch 97/100\n",
      "13/13 [==============================] - 0s 38ms/step - loss: 12.2689 - val_loss: 28.5106\n",
      "Epoch 98/100\n",
      "13/13 [==============================] - 1s 44ms/step - loss: 11.1203 - val_loss: 28.3421\n",
      "Epoch 99/100\n",
      "13/13 [==============================] - 0s 40ms/step - loss: 13.6534 - val_loss: 27.9439\n",
      "Epoch 100/100\n",
      "13/13 [==============================] - 0s 39ms/step - loss: 11.6569 - val_loss: 27.8148\n"
     ]
    }
   ],
   "source": [
    "# Train the model\n",
    "history = model.fit(X_train, y_train, validation_data=(X_test, y_test), epochs=100, batch_size=32)\n"
   ]
  },
  {
   "cell_type": "code",
   "execution_count": 7,
   "metadata": {},
   "outputs": [
    {
     "name": "stdout",
     "output_type": "stream",
     "text": [
      "4/4 [==============================] - 0s 10ms/step - loss: 27.8148\n",
      "Mean Squared Error: 27.81484031677246\n"
     ]
    }
   ],
   "source": [
    "# Evaluate the model\n",
    "mse = model.evaluate(X_test, y_test)\n",
    "print('Mean Squared Error:', mse)\n"
   ]
  },
  {
   "cell_type": "code",
   "execution_count": 8,
   "metadata": {},
   "outputs": [
    {
     "name": "stdout",
     "output_type": "stream",
     "text": [
      "Predicted House Price: 26.73788\n"
     ]
    }
   ],
   "source": [
    "# Let's assume we want to predict the house price for a new house with the following features:\n",
    "new_house = [[0.02731, 0.0, 7.07, 0, 0.469, 6.421, 78.9, 4.9671, 2, 242.0, 17.8, 396.90, 9.14]]\n",
    "\n",
    "# Scale the input data\n",
    "new_house_scaled = scaler.transform(new_house)\n",
    "\n",
    "# Predict the house price using the trained model\n",
    "predicted_price = model.predict(new_house_scaled)\n",
    "\n",
    "# Print the predicted price\n",
    "print('Predicted House Price:', predicted_price[0][0])\n"
   ]
  },
  {
   "cell_type": "code",
   "execution_count": 1,
   "metadata": {},
   "outputs": [
    {
     "ename": "NameError",
     "evalue": "name 'PolynomialFeatures' is not defined",
     "output_type": "error",
     "traceback": [
      "\u001b[1;31m---------------------------------------------------------------------------\u001b[0m",
      "\u001b[1;31mNameError\u001b[0m                                 Traceback (most recent call last)",
      "\u001b[1;32m<ipython-input-1-62e9c9dd5624>\u001b[0m in \u001b[0;36m<module>\u001b[1;34m\u001b[0m\n\u001b[0;32m      1\u001b[0m \u001b[1;31m# Generate polynomial features\u001b[0m\u001b[1;33m\u001b[0m\u001b[1;33m\u001b[0m\u001b[1;33m\u001b[0m\u001b[0m\n\u001b[1;32m----> 2\u001b[1;33m \u001b[0mpoly\u001b[0m \u001b[1;33m=\u001b[0m \u001b[0mPolynomialFeatures\u001b[0m\u001b[1;33m(\u001b[0m\u001b[0mdegree\u001b[0m\u001b[1;33m=\u001b[0m\u001b[1;36m2\u001b[0m\u001b[1;33m)\u001b[0m\u001b[1;33m\u001b[0m\u001b[1;33m\u001b[0m\u001b[0m\n\u001b[0m\u001b[0;32m      3\u001b[0m \u001b[0mX_train\u001b[0m \u001b[1;33m=\u001b[0m \u001b[0mpoly\u001b[0m\u001b[1;33m.\u001b[0m\u001b[0mfit_transform\u001b[0m\u001b[1;33m(\u001b[0m\u001b[0mX_train\u001b[0m\u001b[1;33m)\u001b[0m\u001b[1;33m\u001b[0m\u001b[1;33m\u001b[0m\u001b[0m\n\u001b[0;32m      4\u001b[0m \u001b[0mX_test\u001b[0m \u001b[1;33m=\u001b[0m \u001b[0mpoly\u001b[0m\u001b[1;33m.\u001b[0m\u001b[0mtransform\u001b[0m\u001b[1;33m(\u001b[0m\u001b[0mX_test\u001b[0m\u001b[1;33m)\u001b[0m\u001b[1;33m\u001b[0m\u001b[1;33m\u001b[0m\u001b[0m\n",
      "\u001b[1;31mNameError\u001b[0m: name 'PolynomialFeatures' is not defined"
     ]
    }
   ],
   "source": [
    "# Generate polynomial features\n",
    "poly = PolynomialFeatures(degree=2)\n",
    "X_train = poly.fit_transform(X_train)\n",
    "X_test = poly.transform(X_test)"
   ]
  },
  {
   "cell_type": "code",
   "execution_count": 7,
   "metadata": {},
   "outputs": [
    {
     "name": "stdout",
     "output_type": "stream",
     "text": [
      "Collecting pandas==1.5.2\n",
      "  Using cached pandas-1.5.2-cp38-cp38-win_amd64.whl (11.0 MB)\n",
      "Requirement already satisfied: pytz>=2020.1 in c:\\users\\drl\\anaconda3\\lib\\site-packages (from pandas==1.5.2) (2023.3)\n",
      "Requirement already satisfied: python-dateutil>=2.8.1 in c:\\users\\drl\\appdata\\roaming\\python\\python38\\site-packages (from pandas==1.5.2) (2.8.2)\n",
      "Requirement already satisfied: numpy>=1.20.3; python_version < \"3.10\" in c:\\users\\drl\\anaconda3\\lib\\site-packages (from pandas==1.5.2) (1.24.3)\n",
      "Requirement already satisfied: six>=1.5 in c:\\users\\drl\\anaconda3\\lib\\site-packages (from python-dateutil>=2.8.1->pandas==1.5.2) (1.15.0)\n",
      "Installing collected packages: pandas\n",
      "Note: you may need to restart the kernel to use updated packages.\n"
     ]
    },
    {
     "name": "stderr",
     "output_type": "stream",
     "text": [
      "ERROR: Could not install packages due to an EnvironmentError: [WinError 5] Access is denied: 'C:\\\\Users\\\\Drl\\\\AppData\\\\Roaming\\\\Python\\\\Python38\\\\site-packages\\\\pandas\\\\_libs\\\\algos.cp38-win_amd64.pyd'\n",
      "Check the permissions.\n",
      "\n"
     ]
    }
   ],
   "source": [
    "pip install pandas==1.5.2 --user\n"
   ]
  },
  {
   "cell_type": "code",
   "execution_count": null,
   "metadata": {},
   "outputs": [],
   "source": []
  }
 ],
 "metadata": {
  "kernelspec": {
   "display_name": "Python 3",
   "language": "python",
   "name": "python3"
  },
  "language_info": {
   "codemirror_mode": {
    "name": "ipython",
    "version": 3
   },
   "file_extension": ".py",
   "mimetype": "text/x-python",
   "name": "python",
   "nbconvert_exporter": "python",
   "pygments_lexer": "ipython3",
   "version": "3.8.5"
  }
 },
 "nbformat": 4,
 "nbformat_minor": 4
}
