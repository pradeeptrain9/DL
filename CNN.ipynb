{
 "cells": [
  {
   "cell_type": "code",
   "execution_count": 1,
   "metadata": {},
   "outputs": [
    {
     "name": "stdout",
     "output_type": "stream",
     "text": [
      "Downloading data from https://storage.googleapis.com/tensorflow/tf-keras-datasets/train-labels-idx1-ubyte.gz\n",
      "32768/29515 [=================================] - 0s 1us/step\n",
      "Downloading data from https://storage.googleapis.com/tensorflow/tf-keras-datasets/train-images-idx3-ubyte.gz\n",
      "26427392/26421880 [==============================] - 12s 0us/step\n",
      "Downloading data from https://storage.googleapis.com/tensorflow/tf-keras-datasets/t10k-labels-idx1-ubyte.gz\n",
      "8192/5148 [===============================================] - 0s 1us/step\n",
      "Downloading data from https://storage.googleapis.com/tensorflow/tf-keras-datasets/t10k-images-idx3-ubyte.gz\n",
      "4423680/4422102 [==============================] - 3s 1us/step\n",
      "Epoch 1/10\n",
      "844/844 [==============================] - 260s 300ms/step - loss: 0.8042 - accuracy: 0.7010 - val_loss: 0.3881 - val_accuracy: 0.8622\n",
      "Epoch 2/10\n",
      "844/844 [==============================] - 245s 291ms/step - loss: 0.3786 - accuracy: 0.8613 - val_loss: 0.3439 - val_accuracy: 0.8735\n",
      "Epoch 3/10\n",
      "844/844 [==============================] - 218s 258ms/step - loss: 0.3155 - accuracy: 0.8871 - val_loss: 0.3189 - val_accuracy: 0.8815\n",
      "Epoch 4/10\n",
      "844/844 [==============================] - 235s 278ms/step - loss: 0.2832 - accuracy: 0.8978 - val_loss: 0.2855 - val_accuracy: 0.8972\n",
      "Epoch 5/10\n",
      "844/844 [==============================] - 296s 350ms/step - loss: 0.2534 - accuracy: 0.9058 - val_loss: 0.2736 - val_accuracy: 0.9008\n",
      "Epoch 6/10\n",
      "844/844 [==============================] - 250s 296ms/step - loss: 0.2336 - accuracy: 0.9159 - val_loss: 0.2734 - val_accuracy: 0.9028\n",
      "Epoch 7/10\n",
      "844/844 [==============================] - 295s 349ms/step - loss: 0.2146 - accuracy: 0.9218 - val_loss: 0.2559 - val_accuracy: 0.9085\n",
      "Epoch 8/10\n",
      "844/844 [==============================] - 292s 346ms/step - loss: 0.1985 - accuracy: 0.9267 - val_loss: 0.3038 - val_accuracy: 0.8970\n",
      "Epoch 9/10\n",
      "844/844 [==============================] - 262s 311ms/step - loss: 0.1784 - accuracy: 0.9329 - val_loss: 0.2546 - val_accuracy: 0.9117\n",
      "Epoch 10/10\n",
      "844/844 [==============================] - 249s 295ms/step - loss: 0.1672 - accuracy: 0.9382 - val_loss: 0.2567 - val_accuracy: 0.9115\n",
      "313/313 [==============================] - 18s 56ms/step - loss: 0.2659 - accuracy: 0.90451s - ETA: 0s - loss: 0.2\n",
      "Test accuracy: 0.9045000076293945\n"
     ]
    }
   ],
   "source": [
    "import numpy as np\n",
    "import tensorflow as tf\n",
    "from tensorflow.keras.datasets import fashion_mnist\n",
    "from tensorflow.keras.models import Sequential\n",
    "from tensorflow.keras.layers import Dense, Flatten, Conv2D, MaxPooling2D\n",
    "\n",
    "# Load the dataset\n",
    "(X_train, y_train), (X_test, y_test) = fashion_mnist.load_data()\n",
    "\n",
    "# Preprocess the data\n",
    "X_train = X_train.astype('float32') / 255.0\n",
    "X_test = X_test.astype('float32') / 255.0\n",
    "X_train = np.expand_dims(X_train, axis=-1)\n",
    "X_test = np.expand_dims(X_test, axis=-1)\n",
    "\n",
    "# Convert the labels to one-hot encoding\n",
    "y_train = tf.keras.utils.to_categorical(y_train, num_classes=10)\n",
    "y_test = tf.keras.utils.to_categorical(y_test, num_classes=10)\n",
    "\n",
    "# Define the model\n",
    "model = Sequential()\n",
    "model.add(Conv2D(32, (3, 3), activation='relu', input_shape=(28, 28, 1)))\n",
    "model.add(MaxPooling2D((2, 2)))\n",
    "model.add(Conv2D(64, (3, 3), activation='relu'))\n",
    "model.add(MaxPooling2D((2, 2)))\n",
    "model.add(Conv2D(64, (3, 3), activation='relu'))\n",
    "model.add(Flatten())\n",
    "model.add(Dense(64, activation='relu'))\n",
    "model.add(Dense(10, activation='softmax'))\n",
    "\n",
    "# Compile the model\n",
    "model.compile(optimizer='adam', loss='categorical_crossentropy', metrics=['accuracy'])\n",
    "\n",
    "# Train the model\n",
    "model.fit(X_train, y_train, epochs=10, batch_size=64, validation_split=0.1)\n",
    "\n",
    "# Evaluate the model\n",
    "loss, accuracy = model.evaluate(X_test, y_test)\n",
    "print('Test accuracy:', accuracy)\n"
   ]
  },
  {
   "cell_type": "code",
   "execution_count": 9,
   "metadata": {},
   "outputs": [
    {
     "name": "stdout",
     "output_type": "stream",
     "text": [
      "Prediction: 1\n",
      "Actual label: [0. 1. 0. 0. 0. 0. 0. 0. 0. 0.]\n"
     ]
    }
   ],
   "source": [
    "# Choose a random test image\n",
    "idx = np.random.randint(0, len(X_test))\n",
    "img = X_test[idx]\n",
    "label = y_test[idx]\n",
    "\n",
    "# Make a prediction\n",
    "pred = model.predict(np.array([img]))\n",
    "\n",
    "# Print the prediction and actual label\n",
    "print('Prediction:', np.argmax(pred))\n",
    "print('Actual label:', label)"
   ]
  },
  {
   "cell_type": "code",
   "execution_count": null,
   "metadata": {},
   "outputs": [],
   "source": []
  }
 ],
 "metadata": {
  "kernelspec": {
   "display_name": "Python 3",
   "language": "python",
   "name": "python3"
  },
  "language_info": {
   "codemirror_mode": {
    "name": "ipython",
    "version": 3
   },
   "file_extension": ".py",
   "mimetype": "text/x-python",
   "name": "python",
   "nbconvert_exporter": "python",
   "pygments_lexer": "ipython3",
   "version": "3.8.5"
  }
 },
 "nbformat": 4,
 "nbformat_minor": 4
}
